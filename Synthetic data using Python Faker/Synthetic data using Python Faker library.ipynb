{
 "cells": [
  {
   "cell_type": "code",
   "execution_count": 1,
   "id": "7258e50a",
   "metadata": {},
   "outputs": [],
   "source": [
    "from faker import Faker\n",
    "import faker.providers.credit_card\n",
    "import pandas as pd\n",
    "\n",
    "import random\n",
    "from random import randint"
   ]
  },
  {
   "cell_type": "code",
   "execution_count": 2,
   "id": "f73a22b2",
   "metadata": {},
   "outputs": [],
   "source": [
    "def random_n_digits(n):\n",
    "    range_start = 10**(n-1)\n",
    "    range_end = (10**n)-1\n",
    "    return randint(range_start, range_end)\n",
    "\n",
    "def unique_rand(rands, n):\n",
    "    new_int = random_n_digits(n)\n",
    "    if new_int not in rands:\n",
    "        rands.append(new_int)\n",
    "    else:\n",
    "        unique_rand(rands, n)\n",
    "    return new_int, rands\n",
    "\n",
    "def generate_cost():\n",
    "    cost = ''\n",
    "    digits = randint(1, 4)\n",
    "    cost += str(random_n_digits(digits))\n",
    "    cost += '.' + str(random_n_digits(2))\n",
    "    return cost\n"
   ]
  },
  {
   "cell_type": "code",
   "execution_count": 3,
   "id": "0b8f75f4",
   "metadata": {},
   "outputs": [
    {
     "name": "stdout",
     "output_type": "stream",
     "text": [
      "952\n",
      "47909\n",
      "8584319811\n"
     ]
    }
   ],
   "source": [
    "def random_n_digits(n):\n",
    "    range_start = 10**(n-1)\n",
    "    range_end = (10**n)-1\n",
    "    return randint(range_start, range_end)\n",
    "    \n",
    "print(random_n_digits(3))\n",
    "print(random_n_digits(5))\n",
    "print(random_n_digits(10))\n"
   ]
  },
  {
   "cell_type": "code",
   "execution_count": 4,
   "id": "3f00756c",
   "metadata": {},
   "outputs": [],
   "source": [
    "# # The next function, unique_rand(), will be used to ensure that a generated identifier \n",
    "# is unique to our system. It simply takes a list of integers and an \n",
    "# integer representing the length of a new integer to be created, \n",
    "# uses the previous function to create a new integer of this length, \n",
    "# checks this new integer against the unique list, and if this new integer is also unique, it gets added to the list.\n",
    "\n",
    "# # The final function's utility is given away by its name, generate_cost(). \n",
    "# To generate a cost, the function randomly generates an integer between 1 and 4, \n",
    "# which will become the length of the dollar place digits string for our generated cost. \n",
    "# random_n_digits() is then used to generate an integer of that length. \n",
    "# After this, the process is repeated to create a 2 digit integer, which \n",
    "# becomes the decimal cents portion of the cost, to the right hand side of \n",
    "# the decimal point. These 2 are put together and returned."
   ]
  },
  {
   "cell_type": "code",
   "execution_count": 5,
   "id": "cddb05e0",
   "metadata": {},
   "outputs": [],
   "source": [
    "# Create Customers\n",
    " \n",
    "# With that, let's generate the customers. Our 10,000 customers will include the following attributes:\n",
    "\n",
    "# customer ID (cust_id) - generated using the helper functions outlined above\n",
    "# customer name (name) - generated using Faker; use_weighting=True means an attempt is made to have the frequency of generated values match real-world frequencies (\"Lisa\" will be more frequently generated than will \"Braelynn\"); the locales denote from where names are being generated\n",
    "# customer address (address) - generated using Faker\n",
    "# customer phone number (phone_number) - generated using Faker\n",
    "# customer date of birth (dob) - generated using Faker\n",
    "# customer note text field (note) - generated using Faker\n",
    "# The code also stores generated unique customer IDs (cust_ids) as a list in order to compare newly-generated IDs with existing to ensure uniqueness. After this, the dictionary which is used to store the customer data is passed into a new Pandas DataFrame, and ultimately stored to a CSV file"
   ]
  },
  {
   "cell_type": "code",
   "execution_count": 6,
   "id": "f3699c6e",
   "metadata": {},
   "outputs": [
    {
     "name": "stdout",
     "output_type": "stream",
     "text": [
      "       cust_id                     name  \\\n",
      "0     11188180             Éric Mathieu   \n",
      "1     70569145           Élisabeth Jean   \n",
      "2     91489970          Matilda Soprano   \n",
      "3     78310417             Chelsea Shaw   \n",
      "4     15317585            Sean Anderson   \n",
      "...        ...                      ...   \n",
      "9995  26268050  Mehmet Schmidtke B.Eng.   \n",
      "9996  99087178   Liliane Weinhage-Adler   \n",
      "9997  36356370           Tracy Franklin   \n",
      "9998  83811049          Jennifer Butler   \n",
      "9999  47124956            Christa Karge   \n",
      "\n",
      "                                                address  \\\n",
      "0                          91, rue Becker, 71952 Gallet   \n",
      "1     Viale Saraceno 30, Settimo Temistocle, 68285 L...   \n",
      "2                    858 Reyes Mews, Bettyton, IL 01052   \n",
      "3     39782 Rebekah Island, South Andreamouth, NJ 74387   \n",
      "4                      PSC 5431, Box 1881, APO AE 74130   \n",
      "...                                                 ...   \n",
      "9995      56445 Amanda Underpass, South Barry, ID 38510   \n",
      "9996                         USS Stafford, FPO AP 24942   \n",
      "9997               Wolfgang-Trüb-Gasse 7, 44808 Lörrach   \n",
      "9998                           USNS Brock, FPO AP 05100   \n",
      "9999                Hornichstraße 32, 45489 Ludwigsburg   \n",
      "\n",
      "                phone_number         dob  \\\n",
      "0       +1-580-533-3664x7102  2004-12-15   \n",
      "1     001-878-860-4915x42966  1983-01-12   \n",
      "2             08 02 03 70 42  1978-09-19   \n",
      "3            (0191) 496 0930  2007-08-12   \n",
      "4                06980 17656  1995-08-20   \n",
      "...                      ...         ...   \n",
      "9995       743.949.8453x3586  1996-05-10   \n",
      "9996           (020)74960170  1985-11-11   \n",
      "9997        +44(0)29 2018854  1979-09-27   \n",
      "9998         (028) 9018 0269  1974-10-20   \n",
      "9999           0306 999 0361  2000-12-11   \n",
      "\n",
      "                                                   note  \n",
      "0     Molestiae iste dignissimos impedit reprehender...  \n",
      "1     Still not walk not treat view. Listen degree a...  \n",
      "2     Traverser tandis que désirer moi franchir vie....  \n",
      "3     Recommencer content produire complet compagnon...  \n",
      "4     In magni numquam magnam atque et perferendis. ...  \n",
      "...                                                 ...  \n",
      "9995  Illo quis enim ex odio ut tempore. Nemo cumque...  \n",
      "9996  Voisin autorité poser risquer. Chair ici son p...  \n",
      "9997  Excepturi quo atque quia natus. Magni consecte...  \n",
      "9998  Total lawyer room be least brother bar. Respon...  \n",
      "9999  Autem aperiam itaque placeat aut beatae volupt...  \n",
      "\n",
      "[10000 rows x 6 columns]\n"
     ]
    }
   ],
   "source": [
    "fake = Faker(['en_US', 'en_UK', 'it_IT', 'de_DE', 'fr_FR'], use_weighting=True)\n",
    "\n",
    "customers = {}\n",
    "cust_ids = []\n",
    "\n",
    "for i in range(0, 10000):\n",
    "    customers[i]={}\n",
    "    customers[i]['cust_id'], cust_ids = unique_rand(cust_ids, 8)\n",
    "    customers[i]['name'] = fake.name()\n",
    "    customers[i]['address'] = fake.address().replace('\\n', ', ')\n",
    "    customers[i]['phone_number'] = fake.phone_number()\n",
    "    customers[i]['dob'] = fake.date()\n",
    "    customers[i]['note'] = fake.text().replace('\\n', ' ')\n",
    "\n",
    "customer_df = pd.DataFrame(customers).T\n",
    "print(customer_df)\n",
    "\n",
    "customer_df.to_csv('customer_data.csv', index=False)"
   ]
  },
  {
   "cell_type": "code",
   "execution_count": 7,
   "id": "d06ac726",
   "metadata": {},
   "outputs": [],
   "source": [
    "# Create Credit Cards\n",
    " \n",
    "# Customers need a method to pay for their orders, so let's give them all credit cards.\n",
    "\n",
    "# Actually, in an effort to simplify, we will generate credit cards without assigning them to\n",
    "# any particular customer. Instead, we will just match customers and cards for orders. \n",
    "# You could modify this with a little ingenuity to assign cards to customers and then \n",
    "# ensure that orders were paid for with the proper cards. I'll leave that an an exercise for interested readers.\n",
    "\n",
    "# Below you will find that unique credit card numbers are generated with the same \n",
    "# helper functions and same basic method as the unique customer IDs were. The \n",
    "# credit card numbers are artificially short, but go ahead and make them as long \n",
    "# you would like. The rest of the data is generated using Faker. The data is then \n",
    "# fed into a Pandas DataFrame and saved as a CSV file for later use."
   ]
  },
  {
   "cell_type": "code",
   "execution_count": 8,
   "id": "bb88e7eb",
   "metadata": {},
   "outputs": [
    {
     "name": "stdout",
     "output_type": "stream",
     "text": [
      "      cc_id              type               number   ccv expire\n",
      "0     96667        Mastercard  4255402545326096967   881  07/26\n",
      "1     97281      JCB 15 digit      213127818226486   174  12/22\n",
      "2     38201  American Express     3581623786557876   387  06/24\n",
      "3     78365     VISA 13 digit        4439777661196   215  01/27\n",
      "4     71797      JCB 16 digit     4376691057974069   885  03/30\n",
      "...     ...               ...                  ...   ...    ...\n",
      "9995  92970           Maestro     4738859742589294  4280  09/31\n",
      "9996  31281      JCB 16 digit     3534377596076662   975  11/26\n",
      "9997  66024     VISA 16 digit     6593396260510989  1761  02/31\n",
      "9998  90932      JCB 15 digit     6524044658031663  7983  10/25\n",
      "9999  97261      JCB 15 digit      342790484786317   596  02/24\n",
      "\n",
      "[10000 rows x 5 columns]\n"
     ]
    }
   ],
   "source": [
    "credit_cards = {}\n",
    "cc_ids = []\n",
    "\n",
    "for i in range(0, 10000):\n",
    "    credit_cards[i]={}\n",
    "    credit_cards[i]['cc_id'], cc_ids = unique_rand(cc_ids, 5)\n",
    "    credit_cards[i]['type'] = fake.credit_card_provider()\n",
    "    credit_cards[i]['number'] = fake.credit_card_number()\n",
    "    credit_cards[i]['ccv'] = fake.credit_card_security_code()\n",
    "    credit_cards[i]['expire'] = fake.credit_card_expire()\n",
    "\n",
    "credit_cards_df = pd.DataFrame(credit_cards).T\n",
    "print(credit_cards_df)\n",
    "\n",
    "credit_cards_df.to_csv('credit_card_data.csv', index=False)"
   ]
  },
  {
   "cell_type": "code",
   "execution_count": 9,
   "id": "49344ea5",
   "metadata": {},
   "outputs": [],
   "source": [
    "# Create Orders\n",
    " \n",
    "# Now let's generate ourselves some money.\n",
    "\n",
    "# Orders will be unique in the same manner as the previous customer IDs\n",
    "# and credit card numbers. We will then link a random customer and a \n",
    "# random credit card in an order, and generate a random cost using the \n",
    "# third of the original three helper functions introduced earlier on.\n",
    "\n",
    "# In what has become a common pipeline, we then create a Pandas \n",
    "# DataFrame of the dictionary, and save the data to file as a CSV."
   ]
  },
  {
   "cell_type": "code",
   "execution_count": 10,
   "id": "7c95a6ce",
   "metadata": {},
   "outputs": [
    {
     "name": "stdout",
     "output_type": "stream",
     "text": [
      "       order_id   cust_id  cc_id     cost\n",
      "0    7787738710  49954789  98681  9685.85\n",
      "1    9440547875  53698595  33440   274.88\n",
      "2    4278013254  57322064  47610  5253.14\n",
      "3    3255574062  40290330  34095   549.78\n",
      "4    5303840154  93132710  95119     3.81\n",
      "..          ...       ...    ...      ...\n",
      "995  7919984725  39688130  30155    59.48\n",
      "996  7719229620  84426974  97785   505.58\n",
      "997  6349176427  98187744  19919   144.27\n",
      "998  9867400983  91596612  74468   663.82\n",
      "999  1069265460  95925862  59064    99.24\n",
      "\n",
      "[1000 rows x 4 columns]\n"
     ]
    }
   ],
   "source": [
    "orders = {}\n",
    "order_ids = []\n",
    "\n",
    "for i in range(0, 1000):\n",
    "    orders[i]={}\n",
    "    orders[i]['order_id'], order_ids = unique_rand(order_ids, 10)\n",
    "    orders[i]['cust_id'] = random.choice(cust_ids)\n",
    "    orders[i]['cc_id'] = random.choice(cc_ids)\n",
    "    orders[i]['cost'] = generate_cost()\n",
    "\n",
    "orders_df = pd.DataFrame(orders).T\n",
    "print(orders_df)\n",
    "\n",
    "orders_df.to_csv('orders.csv', index=False)"
   ]
  },
  {
   "cell_type": "code",
   "execution_count": null,
   "id": "e8c516e0",
   "metadata": {},
   "outputs": [],
   "source": []
  }
 ],
 "metadata": {
  "kernelspec": {
   "display_name": "Python 3 (ipykernel)",
   "language": "python",
   "name": "python3"
  },
  "language_info": {
   "codemirror_mode": {
    "name": "ipython",
    "version": 3
   },
   "file_extension": ".py",
   "mimetype": "text/x-python",
   "name": "python",
   "nbconvert_exporter": "python",
   "pygments_lexer": "ipython3",
   "version": "3.8.12"
  }
 },
 "nbformat": 4,
 "nbformat_minor": 5
}

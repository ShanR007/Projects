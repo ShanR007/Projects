{
 "cells": [
  {
   "cell_type": "code",
   "execution_count": 1,
   "id": "422979fb",
   "metadata": {},
   "outputs": [],
   "source": [
    "import speech_recognition as sr\n",
    "import pyttsx3\n",
    "import pywhatkit\n",
    "#python text to speech library\n",
    "\n",
    "import datetime\n",
    "# tells current time from commands\n",
    "import wikipedia\n",
    "# search and import results from wikipedia and speak it out, sa well as \n",
    "# printing it out\n",
    "import pyjokes\n",
    "# Tells out random jokes on invoking the joke library in python"
   ]
  },
  {
   "cell_type": "code",
   "execution_count": null,
   "id": "5b5186b0",
   "metadata": {},
   "outputs": [],
   "source": [
    "listener = sr.Recognizer()\n",
    "engine = pyttsx3.init()\n",
    "voices = engine.getProperty('voices')\n",
    "engine.setProperty('voice', voices[1].id)\n",
    "\n",
    "#engine.say('Hi! I am Alexa!')\n",
    "#engine.say('What can I do for you')\n",
    "\n",
    "def talk(text):\n",
    "    engine.say(text)\n",
    "    engine.runAndWait()\n",
    "\n",
    "def take_command():     \n",
    "    try:\n",
    "        with sr.Microphone() as source:\n",
    "            print('Listening....')\n",
    "            voice = listener.listen(source)\n",
    "            command = listener.recognize_google(voice)\n",
    "            command = command.lower()\n",
    "            if 'alexa' in command:\n",
    "                command = command.replace('alexa', '')\n",
    "                print(command)\n",
    "    except:\n",
    "        pass\n",
    "    return command\n",
    "\n",
    "\n",
    "def run_alexa():\n",
    "    command = take_command()\n",
    "    print(command)\n",
    "    if 'play' in command:\n",
    "        song = command.replace('play', '')\n",
    "        talk('Playing' + song)\n",
    "        pywhatkit.playonyt(song)\n",
    "    elif 'time' in command:\n",
    "        time = datetime.datetime.now().strtime('%I:%M %p')\n",
    "        print(time)\n",
    "        talk('Current time is' + time)\n",
    "    elif 'who is' in command:\n",
    "        person = command.replace('who is','')\n",
    "        info = wikipedia.summary(person, 5)\n",
    "        print(info)\n",
    "        talk(info)\n",
    "    elif 'Lets go out together for a date' in command:\n",
    "        talk('Sorry I have some work to do..')\n",
    "    elif 'joke' in command:\n",
    "        talk(pyjokes.get_joke())\n",
    "        print(pyjokes.get_joke())\n",
    "    else:\n",
    "        talk('Please can you repeat the command again')\n",
    "        \n",
    "while True:  \n",
    "    run_alexa()"
   ]
  },
  {
   "cell_type": "code",
   "execution_count": null,
   "id": "b27ae125",
   "metadata": {},
   "outputs": [],
   "source": []
  }
 ],
 "metadata": {
  "kernelspec": {
   "display_name": "Python 3 (ipykernel)",
   "language": "python",
   "name": "python3"
  },
  "language_info": {
   "codemirror_mode": {
    "name": "ipython",
    "version": 3
   },
   "file_extension": ".py",
   "mimetype": "text/x-python",
   "name": "python",
   "nbconvert_exporter": "python",
   "pygments_lexer": "ipython3",
   "version": "3.8.12"
  }
 },
 "nbformat": 4,
 "nbformat_minor": 5
}

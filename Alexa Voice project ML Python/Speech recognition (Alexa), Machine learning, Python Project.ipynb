{
 "cells": [
  {
   "cell_type": "code",
   "execution_count": 1,
   "id": "da8903c8",
   "metadata": {},
   "outputs": [],
   "source": [
    "# Speech recognintion app\n",
    "# Playing songs on Youtube through voice recognition\n",
    "\n",
    "# Major libraries are pyttsx3 text to speech\n",
    "# pywhatkit for working on voice commands like opening songs in Youtube etc.\n",
    "# Iported voices for various voices like male or female for Alexa."
   ]
  },
  {
   "cell_type": "code",
   "execution_count": 2,
   "id": "a460059c",
   "metadata": {},
   "outputs": [],
   "source": [
    "import speech_recognition as sr\n",
    "import pyttsx3\n",
    "import pywhatkit\n",
    "#python text to speech library"
   ]
  },
  {
   "cell_type": "code",
   "execution_count": 5,
   "id": "68f418b0",
   "metadata": {},
   "outputs": [
    {
     "name": "stdout",
     "output_type": "stream",
     "text": [
      "Listening....\n",
      " play steve jobs movie\n",
      " play steve jobs movie\n"
     ]
    }
   ],
   "source": [
    "listener = sr.Recognizer()\n",
    "engine = pyttsx3.init()\n",
    "voices = engine.getProperty('voices')\n",
    "engine.setProperty('voice', voices[1].id)\n",
    "\n",
    "#engine.say('Hi! I am Alexa!')\n",
    "#engine.say('What can I do for you')\n",
    "\n",
    "def talk(text):\n",
    "    engine.say(text)\n",
    "    engine.runAndWait()\n",
    "\n",
    "def take_command():     \n",
    "    try:\n",
    "        with sr.Microphone() as source:\n",
    "            print('Listening....')\n",
    "            voice = listener.listen(source)\n",
    "            command = listener.recognize_google(voice)\n",
    "            command = command.lower()\n",
    "            if 'alexa' in command:\n",
    "                command = command.replace('alexa', '')\n",
    "                print(command)\n",
    "    except:\n",
    "        pass\n",
    "    return command\n",
    "\n",
    "\n",
    "def run_alexa():\n",
    "    command = take_command()\n",
    "    print(command)\n",
    "    if 'play' in command:\n",
    "        song = command.replace('play', '')\n",
    "        talk('Playing' + song)\n",
    "        pywhatkit.playonyt(song)\n",
    "        \n",
    "run_alexa()\n"
   ]
  },
  {
   "cell_type": "code",
   "execution_count": null,
   "id": "00f9b569",
   "metadata": {},
   "outputs": [],
   "source": []
  }
 ],
 "metadata": {
  "kernelspec": {
   "display_name": "Python 3 (ipykernel)",
   "language": "python",
   "name": "python3"
  },
  "language_info": {
   "codemirror_mode": {
    "name": "ipython",
    "version": 3
   },
   "file_extension": ".py",
   "mimetype": "text/x-python",
   "name": "python",
   "nbconvert_exporter": "python",
   "pygments_lexer": "ipython3",
   "version": "3.8.12"
  }
 },
 "nbformat": 4,
 "nbformat_minor": 5
}

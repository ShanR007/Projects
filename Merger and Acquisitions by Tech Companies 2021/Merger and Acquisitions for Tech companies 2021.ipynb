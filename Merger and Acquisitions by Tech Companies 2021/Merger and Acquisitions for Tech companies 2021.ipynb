{
 "cells": [
  {
   "cell_type": "code",
   "execution_count": 1,
   "id": "dde59597",
   "metadata": {},
   "outputs": [],
   "source": [
    "\n",
    "# Tech Companies - Merger and Acquisitions Dataset - Software Companies\n",
    "# This dataset contains the list of acquisitions made by the following companies:\n",
    "\n",
    "# Microsoft, Google, IBM, Hp, Apple, Amazon, Facebook, Twitter, eBay, Adobe, Citrix, Redhat, Blackberry, Disney\n",
    "\n",
    "# The attributes include the date, year, month of the acquisition, name of the company acquired, value or the cost of acquisition, business use-case of the acquisition, and the country from which the acquisition was made. The source of the dataset is Wikipedia, TechCrunch, and CrunchBase.\n",
    "\n",
    "# Interesting Tasks and Analysis Ideas\n",
    "# Which company makes the acquisitions quickly\n",
    "# What is the trend of business use-cases among the acquired companies throughout the years\n",
    "# What can be forecasted for upcoming years in terms of acquisitions\n",
    "# Predict who is likely to make next acquisitions and when\n"
   ]
  },
  {
   "cell_type": "code",
   "execution_count": 2,
   "id": "a20e51b5",
   "metadata": {},
   "outputs": [],
   "source": [
    "import numpy as np # linear algebra\n",
    "import pandas as pd # data processing, CSV file I/O (e.g. pd.read_csv)\n",
    "import seaborn as sns\n",
    "import matplotlib.pyplot as plt\n",
    "%matplotlib inline"
   ]
  },
  {
   "cell_type": "code",
   "execution_count": 7,
   "id": "dfadfe97",
   "metadata": {},
   "outputs": [
    {
     "data": {
      "text/plain": [
       "(1455, 10)"
      ]
     },
     "execution_count": 7,
     "metadata": {},
     "output_type": "execute_result"
    }
   ],
   "source": [
    "# Read data\n",
    "data = pd.read_csv(\"acquisitions_update_2021.csv\")\n",
    "# Check the shape of data\n",
    "data.shape"
   ]
  },
  {
   "cell_type": "code",
   "execution_count": 8,
   "id": "48878fea",
   "metadata": {},
   "outputs": [
    {
     "data": {
      "text/plain": [
       "Index(['ID', 'Parent Company', 'Acquisition Year', 'Acquisition Month',\n",
       "       'Acquired Company', 'Business', 'Country', 'Acquisition Price',\n",
       "       'Category', 'Derived Products'],\n",
       "      dtype='object')"
      ]
     },
     "execution_count": 8,
     "metadata": {},
     "output_type": "execute_result"
    }
   ],
   "source": [
    "# List all columns\n",
    "data.columns"
   ]
  },
  {
   "cell_type": "code",
   "execution_count": 9,
   "id": "6d5e2145",
   "metadata": {},
   "outputs": [
    {
     "data": {
      "text/html": [
       "<div>\n",
       "<style scoped>\n",
       "    .dataframe tbody tr th:only-of-type {\n",
       "        vertical-align: middle;\n",
       "    }\n",
       "\n",
       "    .dataframe tbody tr th {\n",
       "        vertical-align: top;\n",
       "    }\n",
       "\n",
       "    .dataframe thead th {\n",
       "        text-align: right;\n",
       "    }\n",
       "</style>\n",
       "<table border=\"1\" class=\"dataframe\">\n",
       "  <thead>\n",
       "    <tr style=\"text-align: right;\">\n",
       "      <th></th>\n",
       "      <th>ID</th>\n",
       "      <th>Parent Company</th>\n",
       "      <th>Acquisition Year</th>\n",
       "      <th>Acquisition Month</th>\n",
       "      <th>Acquired Company</th>\n",
       "      <th>Business</th>\n",
       "      <th>Country</th>\n",
       "      <th>Acquisition Price</th>\n",
       "      <th>Category</th>\n",
       "      <th>Derived Products</th>\n",
       "    </tr>\n",
       "  </thead>\n",
       "  <tbody>\n",
       "    <tr>\n",
       "      <th>0</th>\n",
       "      <td>1</td>\n",
       "      <td>Apple</td>\n",
       "      <td>1988</td>\n",
       "      <td>Mar</td>\n",
       "      <td>Network Innovations</td>\n",
       "      <td>Software</td>\n",
       "      <td>-</td>\n",
       "      <td>-</td>\n",
       "      <td>-</td>\n",
       "      <td>-</td>\n",
       "    </tr>\n",
       "    <tr>\n",
       "      <th>1</th>\n",
       "      <td>2</td>\n",
       "      <td>Apple</td>\n",
       "      <td>1988</td>\n",
       "      <td>Jun</td>\n",
       "      <td>Orion Network Systems</td>\n",
       "      <td>Computer Software</td>\n",
       "      <td>-</td>\n",
       "      <td>-</td>\n",
       "      <td>-</td>\n",
       "      <td>-</td>\n",
       "    </tr>\n",
       "    <tr>\n",
       "      <th>2</th>\n",
       "      <td>3</td>\n",
       "      <td>Apple</td>\n",
       "      <td>1988</td>\n",
       "      <td>Jun</td>\n",
       "      <td>Styleware</td>\n",
       "      <td>Computer software</td>\n",
       "      <td>-</td>\n",
       "      <td>-</td>\n",
       "      <td>-</td>\n",
       "      <td>-</td>\n",
       "    </tr>\n",
       "    <tr>\n",
       "      <th>3</th>\n",
       "      <td>4</td>\n",
       "      <td>Apple</td>\n",
       "      <td>1988</td>\n",
       "      <td>Jul</td>\n",
       "      <td>Nashoba Systems</td>\n",
       "      <td>Computer software</td>\n",
       "      <td>-</td>\n",
       "      <td>-</td>\n",
       "      <td>-</td>\n",
       "      <td>-</td>\n",
       "    </tr>\n",
       "    <tr>\n",
       "      <th>4</th>\n",
       "      <td>5</td>\n",
       "      <td>Apple</td>\n",
       "      <td>1989</td>\n",
       "      <td>Jan</td>\n",
       "      <td>Coral Software</td>\n",
       "      <td>Computer software</td>\n",
       "      <td>-</td>\n",
       "      <td>-</td>\n",
       "      <td>-</td>\n",
       "      <td>-</td>\n",
       "    </tr>\n",
       "  </tbody>\n",
       "</table>\n",
       "</div>"
      ],
      "text/plain": [
       "   ID Parent Company Acquisition Year Acquisition Month  \\\n",
       "0   1          Apple             1988               Mar   \n",
       "1   2          Apple             1988               Jun   \n",
       "2   3          Apple             1988               Jun   \n",
       "3   4          Apple             1988               Jul   \n",
       "4   5          Apple             1989               Jan   \n",
       "\n",
       "        Acquired Company           Business Country Acquisition Price  \\\n",
       "0    Network Innovations           Software       -                 -   \n",
       "1  Orion Network Systems  Computer Software       -                 -   \n",
       "2              Styleware  Computer software       -                 -   \n",
       "3        Nashoba Systems  Computer software       -                 -   \n",
       "4         Coral Software  Computer software       -                 -   \n",
       "\n",
       "  Category Derived Products  \n",
       "0        -                -  \n",
       "1        -                -  \n",
       "2        -                -  \n",
       "3        -                -  \n",
       "4        -                -  "
      ]
     },
     "execution_count": 9,
     "metadata": {},
     "output_type": "execute_result"
    }
   ],
   "source": [
    "# Also, let us view first 5 row entries to see how the data looks like.\n",
    "data.head()"
   ]
  },
  {
   "cell_type": "code",
   "execution_count": 11,
   "id": "e4e552f9",
   "metadata": {},
   "outputs": [
    {
     "data": {
      "text/html": [
       "<div>\n",
       "<style scoped>\n",
       "    .dataframe tbody tr th:only-of-type {\n",
       "        vertical-align: middle;\n",
       "    }\n",
       "\n",
       "    .dataframe tbody tr th {\n",
       "        vertical-align: top;\n",
       "    }\n",
       "\n",
       "    .dataframe thead th {\n",
       "        text-align: right;\n",
       "    }\n",
       "</style>\n",
       "<table border=\"1\" class=\"dataframe\">\n",
       "  <thead>\n",
       "    <tr style=\"text-align: right;\">\n",
       "      <th></th>\n",
       "      <th>ID</th>\n",
       "      <th>Parent Company</th>\n",
       "      <th>Acquisition Year</th>\n",
       "      <th>Acquisition Month</th>\n",
       "      <th>Acquired Company</th>\n",
       "      <th>Business</th>\n",
       "      <th>Country</th>\n",
       "      <th>Acquisition Price</th>\n",
       "      <th>Category</th>\n",
       "      <th>Derived Products</th>\n",
       "    </tr>\n",
       "  </thead>\n",
       "  <tbody>\n",
       "    <tr>\n",
       "      <th>1450</th>\n",
       "      <td>1451</td>\n",
       "      <td>Citrix</td>\n",
       "      <td>2015</td>\n",
       "      <td>Apr</td>\n",
       "      <td>Grasshopper</td>\n",
       "      <td>Telephone services</td>\n",
       "      <td>United States</td>\n",
       "      <td>-</td>\n",
       "      <td>-</td>\n",
       "      <td>GoToMeeting, GoToTraining, GoToWebinar, ShareF...</td>\n",
       "    </tr>\n",
       "    <tr>\n",
       "      <th>1451</th>\n",
       "      <td>1452</td>\n",
       "      <td>Citrix</td>\n",
       "      <td>2016</td>\n",
       "      <td>Sep</td>\n",
       "      <td>Norskale</td>\n",
       "      <td>UEM and application performance optimization</td>\n",
       "      <td>France</td>\n",
       "      <td>-</td>\n",
       "      <td>-</td>\n",
       "      <td>XenApp, XenDesktop</td>\n",
       "    </tr>\n",
       "    <tr>\n",
       "      <th>1452</th>\n",
       "      <td>1453</td>\n",
       "      <td>Citrix</td>\n",
       "      <td>2017</td>\n",
       "      <td>Jan</td>\n",
       "      <td>Unidesk</td>\n",
       "      <td>-</td>\n",
       "      <td>United States</td>\n",
       "      <td>-</td>\n",
       "      <td>-</td>\n",
       "      <td>XenApp, XenDesktop</td>\n",
       "    </tr>\n",
       "    <tr>\n",
       "      <th>1453</th>\n",
       "      <td>1454</td>\n",
       "      <td>Citrix</td>\n",
       "      <td>2018</td>\n",
       "      <td>Feb</td>\n",
       "      <td>Cedexis</td>\n",
       "      <td>Intelligent traffic management</td>\n",
       "      <td>France</td>\n",
       "      <td>-</td>\n",
       "      <td>-</td>\n",
       "      <td>Citrix ITM</td>\n",
       "    </tr>\n",
       "    <tr>\n",
       "      <th>1454</th>\n",
       "      <td>1455</td>\n",
       "      <td>Citrix</td>\n",
       "      <td>2021</td>\n",
       "      <td>Mar</td>\n",
       "      <td>Wrike</td>\n",
       "      <td>Project management</td>\n",
       "      <td>United States</td>\n",
       "      <td>-</td>\n",
       "      <td>-</td>\n",
       "      <td>Citrix Workspace</td>\n",
       "    </tr>\n",
       "  </tbody>\n",
       "</table>\n",
       "</div>"
      ],
      "text/plain": [
       "        ID Parent Company Acquisition Year Acquisition Month Acquired Company  \\\n",
       "1450  1451         Citrix             2015               Apr      Grasshopper   \n",
       "1451  1452         Citrix             2016               Sep         Norskale   \n",
       "1452  1453         Citrix             2017               Jan          Unidesk   \n",
       "1453  1454         Citrix             2018               Feb          Cedexis   \n",
       "1454  1455         Citrix             2021               Mar            Wrike   \n",
       "\n",
       "                                          Business        Country  \\\n",
       "1450                            Telephone services  United States   \n",
       "1451  UEM and application performance optimization         France   \n",
       "1452                                             -  United States   \n",
       "1453                Intelligent traffic management         France   \n",
       "1454                            Project management  United States   \n",
       "\n",
       "     Acquisition Price Category  \\\n",
       "1450                 -        -   \n",
       "1451                 -        -   \n",
       "1452                 -        -   \n",
       "1453                 -        -   \n",
       "1454                 -        -   \n",
       "\n",
       "                                       Derived Products  \n",
       "1450  GoToMeeting, GoToTraining, GoToWebinar, ShareF...  \n",
       "1451                                 XenApp, XenDesktop  \n",
       "1452                                 XenApp, XenDesktop  \n",
       "1453                                         Citrix ITM  \n",
       "1454                                   Citrix Workspace  "
      ]
     },
     "execution_count": 11,
     "metadata": {},
     "output_type": "execute_result"
    }
   ],
   "source": [
    "# Also, a quick glance at last five row entries\n",
    "data.tail()"
   ]
  },
  {
   "cell_type": "code",
   "execution_count": 13,
   "id": "fe6f6e1b",
   "metadata": {},
   "outputs": [
    {
     "name": "stdout",
     "output_type": "stream",
     "text": [
      "<class 'pandas.core.frame.DataFrame'>\n",
      "RangeIndex: 1455 entries, 0 to 1454\n",
      "Data columns (total 10 columns):\n",
      " #   Column             Non-Null Count  Dtype \n",
      "---  ------             --------------  ----- \n",
      " 0   ID                 1455 non-null   int64 \n",
      " 1   Parent Company     1455 non-null   object\n",
      " 2   Acquisition Year   1455 non-null   object\n",
      " 3   Acquisition Month  1455 non-null   object\n",
      " 4   Acquired Company   1455 non-null   object\n",
      " 5   Business           1455 non-null   object\n",
      " 6   Country            1455 non-null   object\n",
      " 7   Acquisition Price  1455 non-null   object\n",
      " 8   Category           1455 non-null   object\n",
      " 9   Derived Products   1455 non-null   object\n",
      "dtypes: int64(1), object(9)\n",
      "memory usage: 113.8+ KB\n"
     ]
    }
   ],
   "source": [
    "# Let's check column types and some statistics info\n",
    "data.info()"
   ]
  },
  {
   "cell_type": "code",
   "execution_count": 14,
   "id": "dbd99b34",
   "metadata": {},
   "outputs": [],
   "source": [
    "# Acquisition Month Date and Value are float64 type. These have to be converted to numeric type later\n",
    "# Also, missing values\n",
    "\n",
    "# We can see that all columns do not have equal number of entries, which implies missing values. Missing values must be handled in the data by either -\n",
    "\n",
    "# Dropping them - which is better only if there are very few entries missing and dataset is large enough.\n",
    "# Imputing them - replacing with zero, mean, median or mode of the attribute for numeric types and with \"None\" for categorical type.\n",
    "# We will find exactly how many missing values exist in each column."
   ]
  },
  {
   "cell_type": "code",
   "execution_count": 16,
   "id": "dac83151",
   "metadata": {},
   "outputs": [
    {
     "data": {
      "text/plain": [
       "ID                   0\n",
       "Parent Company       0\n",
       "Acquisition Year     0\n",
       "Acquisition Month    0\n",
       "Acquired Company     0\n",
       "Business             0\n",
       "Country              0\n",
       "Acquisition Price    0\n",
       "Category             0\n",
       "Derived Products     0\n",
       "dtype: int64"
      ]
     },
     "execution_count": 16,
     "metadata": {},
     "output_type": "execute_result"
    }
   ],
   "source": [
    "data.isnull().sum()"
   ]
  },
  {
   "cell_type": "code",
   "execution_count": 22,
   "id": "9cbb3292",
   "metadata": {},
   "outputs": [],
   "source": [
    "data = data.replace(\"-\", np.nan)\n",
    "data\n",
    "df = data"
   ]
  },
  {
   "cell_type": "code",
   "execution_count": 23,
   "id": "a2126861",
   "metadata": {},
   "outputs": [],
   "source": [
    "# Converting columns into numerical values\n",
    "df['Acquisition Year'] = pd.to_numeric(df['Acquisition Year'], errors='coerce')\n",
    "df['Acquisition Price'] = pd.to_numeric(df['Acquisition Price'], errors='coerce')\n",
    "\n",
    "# Rename the column, per a billion\n",
    "df = df.rename({'Acquisition Price': 'Acquisition Price(Billions)'}, axis=1)"
   ]
  },
  {
   "cell_type": "code",
   "execution_count": 27,
   "id": "2d6dc1ea",
   "metadata": {},
   "outputs": [
    {
     "data": {
      "image/png": "[encoded data removed]",
      "text/plain": [
       "<Figure size 1080x720 with 1 Axes>"
      ]
     },
     "metadata": {
      "needs_background": "light"
     },
     "output_type": "display_data"
    }
   ],
   "source": [
    "plt.figure(figsize=(15,10))\n",
    "plt.title('Acquisition Years')\n",
    "plt.hist(df['Acquisition Year'], bins=25, color='darkgreen');"
   ]
  },
  {
   "cell_type": "code",
   "execution_count": 28,
   "id": "b4d80374",
   "metadata": {},
   "outputs": [],
   "source": [
    "# It appears that the number of acquisitions by tech companies have dramatically increased since the 1990s. This is somewhat \n",
    "# representative of the Tech Industry which had a dramatic growth period in the 1990s."
   ]
  },
  {
   "cell_type": "code",
   "execution_count": 29,
   "id": "8461bbbb",
   "metadata": {},
   "outputs": [],
   "source": [
    "# Which companies have the highest number of acquisitions?"
   ]
  },
  {
   "cell_type": "code",
   "execution_count": 30,
   "id": "04a23fde",
   "metadata": {},
   "outputs": [],
   "source": [
    "companies = df['Parent Company'].value_counts()\n",
    "companies_df = companies.to_frame().reset_index()\n",
    "companies_df = companies_df.rename({'index': 'Parent Company', 'Parent Company': 'Acquisitions'}, axis=1)"
   ]
  },
  {
   "cell_type": "code",
   "execution_count": 32,
   "id": "6e876d5b",
   "metadata": {},
   "outputs": [
    {
     "data": {
      "image/png": "[encoded data removed]",
      "text/plain": [
       "<Figure size 1080x720 with 1 Axes>"
      ]
     },
     "metadata": {
      "needs_background": "light"
     },
     "output_type": "display_data"
    }
   ],
   "source": [
    "text = ('It is interesting to see that HP and Ibm' + '\\n' + 'have acquired more companies than Apple, Amazon' + \n",
    "        '\\n' + 'and Facebook - who are more profitable.')\n",
    "\n",
    "plt.figure(figsize=(15,10))\n",
    "plt.title('Companies with Highest Number of Acquisitions')\n",
    "sns.barplot(x='Parent Company', y='Acquisitions', data=companies_df)\n",
    "plt.text(x=4, y=150, s=text, size='x-large');"
   ]
  },
  {
   "cell_type": "code",
   "execution_count": 33,
   "id": "c320deeb",
   "metadata": {},
   "outputs": [],
   "source": [
    "# Observation:\n",
    "# It is seems that companies who have a stronger focus on computer software have a higher number of acquisitions. Perhaps this \n",
    "# is because companies that specialize in computer software generate more revenue that supports these acquisitions."
   ]
  },
  {
   "cell_type": "code",
   "execution_count": 34,
   "id": "1910f7c7",
   "metadata": {},
   "outputs": [],
   "source": [
    "# What are the most popular businesses to acquire?"
   ]
  },
  {
   "cell_type": "code",
   "execution_count": 35,
   "id": "2084d404",
   "metadata": {},
   "outputs": [],
   "source": [
    "business = df['Business'].value_counts()\n",
    "business_df = business.to_frame().reset_index()\n",
    "business_df = business_df.rename({'index': 'Business', 'Business': 'Total'}, axis=1)"
   ]
  },
  {
   "cell_type": "code",
   "execution_count": 36,
   "id": "04f9d24b",
   "metadata": {},
   "outputs": [
    {
     "data": {
      "image/png": "[encoded data removed]",
      "text/plain": [
       "<Figure size 720x1080 with 1 Axes>"
      ]
     },
     "metadata": {
      "needs_background": "light"
     },
     "output_type": "display_data"
    }
   ],
   "source": [
    "plt.figure(figsize=(10,15))\n",
    "plt.title('20 Most Popular Businesses To Acquire')\n",
    "sns.barplot(x='Total', y='Business', data=business_df[:31]);"
   ]
  },
  {
   "cell_type": "code",
   "execution_count": 37,
   "id": "c3bbba05",
   "metadata": {},
   "outputs": [],
   "source": [
    "# Observation:\n",
    "# It appears that there is a disproportionately high number of software businesses that were acquired by tech companies. \n",
    "# This supports our earlier observation that businesses that have a strong focus on Software may generate more revenue."
   ]
  },
  {
   "cell_type": "code",
   "execution_count": 38,
   "id": "2b956791",
   "metadata": {},
   "outputs": [],
   "source": [
    "# What is the trend of the Acquisition Price\n",
    "\n",
    "mask = df['Acquisition Year'].notnull() & df['Acquisition Price(Billions)'].notnull()\n",
    "price_df = df[mask]\n",
    "\n",
    "price_df = price_df[price_df['Acquisition Year'] > 1987]"
   ]
  },
  {
   "cell_type": "code",
   "execution_count": 39,
   "id": "a1096c05",
   "metadata": {},
   "outputs": [
    {
     "data": {
      "image/png": "[encoded data removed]",
      "text/plain": [
       "<Figure size 1080x720 with 2 Axes>"
      ]
     },
     "metadata": {
      "needs_background": "light"
     },
     "output_type": "display_data"
    }
   ],
   "source": [
    "fig, axes = plt.subplots(1, 2, figsize=(15, 10))\n",
    "\n",
    "# Bar Chart\n",
    "axes[0].set_title('Bar Chart Showing Acquisition Prices(Billions) over the Years')\n",
    "axes[0].bar('Acquisition Year', 'Acquisition Price(Billions)', data=price_df)\n",
    "axes[0].set_xlabel('Acquisition Year')\n",
    "axes[0].set_ylabel('Price(Billions)')\n",
    "\n",
    "\n",
    "\n",
    "# Trend\n",
    "axes[1].set_title('Estimated Trend')\n",
    "sns.lineplot(data=price_df, x='Acquisition Year', y='Acquisition Price(Billions)', ax=axes[1], ci=None)\n",
    "axes[1].set_ylabel('Price')\n",
    "\n",
    "\n",
    "\n",
    "axes[1].yaxis.set_ticklabels([]);"
   ]
  },
  {
   "cell_type": "code",
   "execution_count": 40,
   "id": "b24031aa",
   "metadata": {},
   "outputs": [],
   "source": [
    "# Observation:\n",
    "# If we observe the bar chart, we can tell that that the acquisition prices are very volatile. However, \n",
    "# it seems that the prices have been increasing since 1990 \n",
    "# despite the volatility. It is interesting to see that downturns in the trend matches periods of great economic decline."
   ]
  },
  {
   "cell_type": "code",
   "execution_count": 41,
   "id": "788a2d01",
   "metadata": {},
   "outputs": [],
   "source": [
    "# What were the most expensive companies to acquire?"
   ]
  },
  {
   "cell_type": "code",
   "execution_count": 42,
   "id": "84f44dfd",
   "metadata": {},
   "outputs": [
    {
     "data": {
      "text/html": [
       "<div>\n",
       "<style scoped>\n",
       "    .dataframe tbody tr th:only-of-type {\n",
       "        vertical-align: middle;\n",
       "    }\n",
       "\n",
       "    .dataframe tbody tr th {\n",
       "        vertical-align: top;\n",
       "    }\n",
       "\n",
       "    .dataframe thead th {\n",
       "        text-align: right;\n",
       "    }\n",
       "</style>\n",
       "<table border=\"1\" class=\"dataframe\">\n",
       "  <thead>\n",
       "    <tr style=\"text-align: right;\">\n",
       "      <th></th>\n",
       "      <th>Parent Company</th>\n",
       "      <th>Acquisition Price(Billions)</th>\n",
       "      <th>Acquired Company</th>\n",
       "      <th>Acquisition Year</th>\n",
       "    </tr>\n",
       "  </thead>\n",
       "  <tbody>\n",
       "    <tr>\n",
       "      <th>0</th>\n",
       "      <td>Disney</td>\n",
       "      <td>7.130000e+10</td>\n",
       "      <td>21st Century Fox</td>\n",
       "      <td>2019</td>\n",
       "    </tr>\n",
       "    <tr>\n",
       "      <th>1</th>\n",
       "      <td>Twitter</td>\n",
       "      <td>5.010000e+10</td>\n",
       "      <td>Periscope</td>\n",
       "      <td>2015</td>\n",
       "    </tr>\n",
       "    <tr>\n",
       "      <th>2</th>\n",
       "      <td>Ibm</td>\n",
       "      <td>3.400000e+10</td>\n",
       "      <td>Red Hat</td>\n",
       "      <td>2019</td>\n",
       "    </tr>\n",
       "    <tr>\n",
       "      <th>3</th>\n",
       "      <td>Microsoft</td>\n",
       "      <td>2.620000e+10</td>\n",
       "      <td>LinkedIn</td>\n",
       "      <td>2016</td>\n",
       "    </tr>\n",
       "    <tr>\n",
       "      <th>4</th>\n",
       "      <td>Hp</td>\n",
       "      <td>2.500000e+10</td>\n",
       "      <td>Compaq</td>\n",
       "      <td>2002</td>\n",
       "    </tr>\n",
       "    <tr>\n",
       "      <th>5</th>\n",
       "      <td>Microsoft</td>\n",
       "      <td>1.970000e+10</td>\n",
       "      <td>Nuance Communications</td>\n",
       "      <td>2021</td>\n",
       "    </tr>\n",
       "    <tr>\n",
       "      <th>6</th>\n",
       "      <td>Facebook</td>\n",
       "      <td>1.900000e+10</td>\n",
       "      <td>WhatsApp</td>\n",
       "      <td>2014</td>\n",
       "    </tr>\n",
       "    <tr>\n",
       "      <th>7</th>\n",
       "      <td>Disney</td>\n",
       "      <td>1.900000e+10</td>\n",
       "      <td>Capital Cities/ABC Inc.</td>\n",
       "      <td>1996</td>\n",
       "    </tr>\n",
       "    <tr>\n",
       "      <th>8</th>\n",
       "      <td>Hp</td>\n",
       "      <td>1.390000e+10</td>\n",
       "      <td>Electronic Data Systems</td>\n",
       "      <td>2008</td>\n",
       "    </tr>\n",
       "    <tr>\n",
       "      <th>9</th>\n",
       "      <td>Amazon</td>\n",
       "      <td>1.370000e+10</td>\n",
       "      <td>Whole Foods Market</td>\n",
       "      <td>2017</td>\n",
       "    </tr>\n",
       "    <tr>\n",
       "      <th>10</th>\n",
       "      <td>Hp</td>\n",
       "      <td>1.100000e+10</td>\n",
       "      <td>Autonomy Corporation</td>\n",
       "      <td>2011</td>\n",
       "    </tr>\n",
       "    <tr>\n",
       "      <th>11</th>\n",
       "      <td>Microsoft</td>\n",
       "      <td>8.500000e+09</td>\n",
       "      <td>Skype Technologies</td>\n",
       "      <td>2011</td>\n",
       "    </tr>\n",
       "    <tr>\n",
       "      <th>12</th>\n",
       "      <td>Amazon</td>\n",
       "      <td>8.450000e+09</td>\n",
       "      <td>Metro-Goldwyn-Mayer</td>\n",
       "      <td>2021</td>\n",
       "    </tr>\n",
       "    <tr>\n",
       "      <th>13</th>\n",
       "      <td>Microsoft</td>\n",
       "      <td>8.100000e+09</td>\n",
       "      <td>ZeniMax Media</td>\n",
       "      <td>2020</td>\n",
       "    </tr>\n",
       "    <tr>\n",
       "      <th>14</th>\n",
       "      <td>Microsoft</td>\n",
       "      <td>7.500000e+09</td>\n",
       "      <td>GitHub</td>\n",
       "      <td>2018</td>\n",
       "    </tr>\n",
       "    <tr>\n",
       "      <th>15</th>\n",
       "      <td>Disney</td>\n",
       "      <td>7.400000e+09</td>\n",
       "      <td>Pixar</td>\n",
       "      <td>2006</td>\n",
       "    </tr>\n",
       "    <tr>\n",
       "      <th>16</th>\n",
       "      <td>Microsoft</td>\n",
       "      <td>7.200000e+09</td>\n",
       "      <td>Nokia mobile phones unit</td>\n",
       "      <td>2013</td>\n",
       "    </tr>\n",
       "    <tr>\n",
       "      <th>17</th>\n",
       "      <td>Microsoft</td>\n",
       "      <td>6.333000e+09</td>\n",
       "      <td>aQuantive</td>\n",
       "      <td>2007</td>\n",
       "    </tr>\n",
       "    <tr>\n",
       "      <th>18</th>\n",
       "      <td>Ibm</td>\n",
       "      <td>5.000000e+09</td>\n",
       "      <td>Cognos</td>\n",
       "      <td>2008</td>\n",
       "    </tr>\n",
       "    <tr>\n",
       "      <th>19</th>\n",
       "      <td>Adobe</td>\n",
       "      <td>4.750000e+09</td>\n",
       "      <td>Marketo</td>\n",
       "      <td>2018</td>\n",
       "    </tr>\n",
       "  </tbody>\n",
       "</table>\n",
       "</div>"
      ],
      "text/plain": [
       "   Parent Company  Acquisition Price(Billions)          Acquired Company  \\\n",
       "0          Disney                 7.130000e+10          21st Century Fox   \n",
       "1         Twitter                 5.010000e+10                 Periscope   \n",
       "2             Ibm                 3.400000e+10                   Red Hat   \n",
       "3       Microsoft                 2.620000e+10                  LinkedIn   \n",
       "4              Hp                 2.500000e+10                    Compaq   \n",
       "5       Microsoft                 1.970000e+10     Nuance Communications   \n",
       "6        Facebook                 1.900000e+10                  WhatsApp   \n",
       "7          Disney                 1.900000e+10   Capital Cities/ABC Inc.   \n",
       "8              Hp                 1.390000e+10   Electronic Data Systems   \n",
       "9          Amazon                 1.370000e+10        Whole Foods Market   \n",
       "10             Hp                 1.100000e+10      Autonomy Corporation   \n",
       "11      Microsoft                 8.500000e+09        Skype Technologies   \n",
       "12         Amazon                 8.450000e+09       Metro-Goldwyn-Mayer   \n",
       "13      Microsoft                 8.100000e+09             ZeniMax Media   \n",
       "14      Microsoft                 7.500000e+09                    GitHub   \n",
       "15         Disney                 7.400000e+09                     Pixar   \n",
       "16      Microsoft                 7.200000e+09  Nokia mobile phones unit   \n",
       "17      Microsoft                 6.333000e+09                 aQuantive   \n",
       "18            Ibm                 5.000000e+09                    Cognos   \n",
       "19          Adobe                 4.750000e+09                   Marketo   \n",
       "\n",
       "    Acquisition Year  \n",
       "0               2019  \n",
       "1               2015  \n",
       "2               2019  \n",
       "3               2016  \n",
       "4               2002  \n",
       "5               2021  \n",
       "6               2014  \n",
       "7               1996  \n",
       "8               2008  \n",
       "9               2017  \n",
       "10              2011  \n",
       "11              2011  \n",
       "12              2021  \n",
       "13              2020  \n",
       "14              2018  \n",
       "15              2006  \n",
       "16              2013  \n",
       "17              2007  \n",
       "18              2008  \n",
       "19              2018  "
      ]
     },
     "execution_count": 42,
     "metadata": {},
     "output_type": "execute_result"
    }
   ],
   "source": [
    "expense_df = df.sort_values(by=['Acquisition Price(Billions)'], ascending=False)\n",
    "num = expense_df.iloc[:20]['Acquisition Year'].astype(int)\n",
    "exp = expense_df.iloc[:20]\n",
    "exp = exp.reset_index(drop=True)\n",
    "num = num.reset_index(drop=True)\n",
    "exp.loc[:, 'Acquisition Year'] = num\n",
    "exp[['Parent Company',  'Acquisition Price(Billions)', 'Acquired Company', 'Acquisition Year']]"
   ]
  },
  {
   "cell_type": "code",
   "execution_count": 43,
   "id": "c309cc4c",
   "metadata": {},
   "outputs": [],
   "source": [
    "# Observation\n",
    "# The information on in the table above supports our earlier conclusion that acquisition prices were higher in \n",
    "# the more recent years. The most expensive company to acquire was 21st Century Fox in the year 2019."
   ]
  },
  {
   "cell_type": "code",
   "execution_count": 44,
   "id": "0f37e837",
   "metadata": {},
   "outputs": [
    {
     "data": {
      "text/plain": [
       "Twitter Cortex              2\n",
       "Mobile Twitter app (iOS)    1\n",
       "Analytics tools             1\n",
       "Revenue team                1\n",
       "Revenue engineering team    1\n",
       "Design                      1\n",
       "MoPub                       1\n",
       "Commerce                    1\n",
       "Twitter Spaces              1\n",
       "Name: Category, dtype: int64"
      ]
     },
     "execution_count": 44,
     "metadata": {},
     "output_type": "execute_result"
    }
   ],
   "source": [
    "df['Category'].value_counts()"
   ]
  },
  {
   "cell_type": "code",
   "execution_count": 45,
   "id": "cf4a6961",
   "metadata": {},
   "outputs": [],
   "source": [
    "# We can see that there is very little \n",
    "# information we can get from the Category. However, it seems Twitter was more diligent in recording the categories."
   ]
  },
  {
   "cell_type": "code",
   "execution_count": 46,
   "id": "bf05ba50",
   "metadata": {},
   "outputs": [],
   "source": [
    "# Where are the acquisitions of companies concentrated?"
   ]
  },
  {
   "cell_type": "code",
   "execution_count": 47,
   "id": "7ddbea37",
   "metadata": {},
   "outputs": [],
   "source": [
    "country = df['Country'].value_counts()\n",
    "country_df = country.to_frame().reset_index()\n",
    "country_df = country_df.rename({'index': 'Country', 'Country': 'Total'}, axis=1)"
   ]
  },
  {
   "cell_type": "code",
   "execution_count": 48,
   "id": "023a7e79",
   "metadata": {},
   "outputs": [
    {
     "data": {
      "image/png": "[encoded data removed]",
      "text/plain": [
       "<Figure size 720x1080 with 1 Axes>"
      ]
     },
     "metadata": {
      "needs_background": "light"
     },
     "output_type": "display_data"
    }
   ],
   "source": [
    "plt.figure(figsize=(10,15))\n",
    "plt.title('Bar Chart Showing Where Acquisitions are Most Concentrated')\n",
    "sns.barplot(x='Total', y='Country', data=country_df, palette='bright');"
   ]
  },
  {
   "cell_type": "code",
   "execution_count": 49,
   "id": "d0e07470",
   "metadata": {},
   "outputs": [],
   "source": [
    "# Observation\n",
    "# It appears that there is a disproportionately high number of \n",
    "# companies that were acquired from the United States. \n",
    "# This is matches what we know of the Tech Industry - that the United States\n",
    "# is home to the largest tech companies. However, we can already see that \n",
    "# the countries provided are not representative of the entire number of companies acquired. \n",
    "# We only know 341 country location out of the 1455 companies acquired."
   ]
  },
  {
   "cell_type": "code",
   "execution_count": 50,
   "id": "46388a45",
   "metadata": {},
   "outputs": [
    {
     "name": "stdout",
     "output_type": "stream",
     "text": [
      "<class 'pandas.core.frame.DataFrame'>\n",
      "RangeIndex: 1455 entries, 0 to 1454\n",
      "Data columns (total 10 columns):\n",
      " #   Column                       Non-Null Count  Dtype  \n",
      "---  ------                       --------------  -----  \n",
      " 0   ID                           1455 non-null   int64  \n",
      " 1   Parent Company               1455 non-null   object \n",
      " 2   Acquisition Year             1427 non-null   float64\n",
      " 3   Acquisition Month            1397 non-null   object \n",
      " 4   Acquired Company             1455 non-null   object \n",
      " 5   Business                     1181 non-null   object \n",
      " 6   Country                      341 non-null    object \n",
      " 7   Acquisition Price(Billions)  383 non-null    float64\n",
      " 8   Category                     10 non-null     object \n",
      " 9   Derived Products             403 non-null    object \n",
      "dtypes: float64(2), int64(1), object(7)\n",
      "memory usage: 113.8+ KB\n"
     ]
    }
   ],
   "source": [
    "df.info()"
   ]
  },
  {
   "cell_type": "code",
   "execution_count": null,
   "id": "67bf2c99",
   "metadata": {},
   "outputs": [],
   "source": []
  }
 ],
 "metadata": {
  "kernelspec": {
   "display_name": "Python 3 (ipykernel)",
   "language": "python",
   "name": "python3"
  },
  "language_info": {
   "codemirror_mode": {
    "name": "ipython",
    "version": 3
   },
   "file_extension": ".py",
   "mimetype": "text/x-python",
   "name": "python",
   "nbconvert_exporter": "python",
   "pygments_lexer": "ipython3",
   "version": "3.8.12"
  }
 },
 "nbformat": 4,
 "nbformat_minor": 5
}
